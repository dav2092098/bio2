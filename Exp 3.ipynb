{
 "cells": [
  {
   "cell_type": "code",
   "execution_count": 3,
   "metadata": {},
   "outputs": [
    {
     "data": {
      "text/html": [
       "<script>requirejs.config({paths: { 'plotly': ['https://cdn.plot.ly/plotly-latest.min']},});if(!window.Plotly) {{require(['plotly'],function(plotly) {window.Plotly=plotly;});}}</script>"
      ],
      "text/vnd.plotly.v1+html": [
       "<script>requirejs.config({paths: { 'plotly': ['https://cdn.plot.ly/plotly-latest.min']},});if(!window.Plotly) {{require(['plotly'],function(plotly) {window.Plotly=plotly;});}}</script>"
      ]
     },
     "metadata": {},
     "output_type": "display_data"
    },
    {
     "data": {
      "application/vnd.plotly.v1+json": {
       "data": [
        {
         "type": "scatter",
         "x": [
          1,
          2,
          3
         ],
         "y": [
          3,
          2,
          6
         ]
        }
       ],
       "layout": {}
      },
      "text/html": [
       "<div id=\"b599aefd-5961-47c8-b5bc-946940926ad4\" style=\"height: 525px; width: 100%;\" class=\"plotly-graph-div\"></div><script type=\"text/javascript\">require([\"plotly\"], function(Plotly) { window.PLOTLYENV=window.PLOTLYENV || {};window.PLOTLYENV.BASE_URL=\"https://plot.ly\";Plotly.newPlot(\"b599aefd-5961-47c8-b5bc-946940926ad4\", [{\"type\": \"scatter\", \"x\": [1, 2, 3], \"y\": [3, 2, 6]}], {}, {\"showLink\": true, \"linkText\": \"Export to plot.ly\"})});</script>"
      ],
      "text/vnd.plotly.v1+html": [
       "<div id=\"b599aefd-5961-47c8-b5bc-946940926ad4\" style=\"height: 525px; width: 100%;\" class=\"plotly-graph-div\"></div><script type=\"text/javascript\">require([\"plotly\"], function(Plotly) { window.PLOTLYENV=window.PLOTLYENV || {};window.PLOTLYENV.BASE_URL=\"https://plot.ly\";Plotly.newPlot(\"b599aefd-5961-47c8-b5bc-946940926ad4\", [{\"type\": \"scatter\", \"x\": [1, 2, 3], \"y\": [3, 2, 6]}], {}, {\"showLink\": true, \"linkText\": \"Export to plot.ly\"})});</script>"
      ]
     },
     "metadata": {},
     "output_type": "display_data"
    },
    {
     "data": {
      "application/vnd.plotly.v1+json": {
       "data": [
        {
         "colorscale": [
          [
           0,
           "#00083e"
          ],
          [
           0.5,
           "#ededee"
          ],
          [
           1,
           "#ffffff"
          ]
         ],
         "hoverinfo": "none",
         "opacity": 0.75,
         "showscale": false,
         "type": "heatmap",
         "z": [
          [
           0,
           0,
           0,
           0
          ],
          [
           0.5,
           0.5,
           0.5,
           0.5
          ],
          [
           1,
           1,
           1,
           1
          ],
          [
           0.5,
           0.5,
           0.5,
           0.5
          ],
          [
           1,
           1,
           1,
           1
          ],
          [
           0.5,
           0.5,
           0.5,
           0.5
          ],
          [
           1,
           1,
           1,
           1
          ],
          [
           0.5,
           0.5,
           0.5,
           0.5
          ],
          [
           1,
           1,
           1,
           1
          ],
          [
           0.5,
           0.5,
           0.5,
           0.5
          ],
          [
           1,
           1,
           1,
           1
          ],
          [
           0.5,
           0.5,
           0.5,
           0.5
          ],
          [
           1,
           1,
           1,
           1
          ],
          [
           0.5,
           0.5,
           0.5,
           0.5
          ],
          [
           1,
           1,
           1,
           1
          ],
          [
           0.5,
           0.5,
           0.5,
           0.5
          ],
          [
           1,
           1,
           1,
           1
          ],
          [
           0.5,
           0.5,
           0.5,
           0.5
          ],
          [
           1,
           1,
           1,
           1
          ],
          [
           0.5,
           0.5,
           0.5,
           0.5
          ],
          [
           1,
           1,
           1,
           1
          ],
          [
           0.5,
           0.5,
           0.5,
           0.5
          ]
         ]
        }
       ],
       "layout": {
        "annotations": [
         {
          "align": "left",
          "font": {
           "color": "#ffffff"
          },
          "showarrow": false,
          "text": "<b>School</b>",
          "x": -0.45,
          "xanchor": "left",
          "xref": "x1",
          "y": 0,
          "yref": "y1"
         },
         {
          "align": "left",
          "font": {
           "color": "#ffffff"
          },
          "showarrow": false,
          "text": "<b>Women</b>",
          "x": 0.55,
          "xanchor": "left",
          "xref": "x1",
          "y": 0,
          "yref": "y1"
         },
         {
          "align": "left",
          "font": {
           "color": "#ffffff"
          },
          "showarrow": false,
          "text": "<b>Men</b>",
          "x": 1.55,
          "xanchor": "left",
          "xref": "x1",
          "y": 0,
          "yref": "y1"
         },
         {
          "align": "left",
          "font": {
           "color": "#ffffff"
          },
          "showarrow": false,
          "text": "<b>gap</b>",
          "x": 2.55,
          "xanchor": "left",
          "xref": "x1",
          "y": 0,
          "yref": "y1"
         },
         {
          "align": "left",
          "font": {
           "color": "#000000"
          },
          "showarrow": false,
          "text": "MIT",
          "x": -0.45,
          "xanchor": "left",
          "xref": "x1",
          "y": 1,
          "yref": "y1"
         },
         {
          "align": "left",
          "font": {
           "color": "#000000"
          },
          "showarrow": false,
          "text": "94",
          "x": 0.55,
          "xanchor": "left",
          "xref": "x1",
          "y": 1,
          "yref": "y1"
         },
         {
          "align": "left",
          "font": {
           "color": "#000000"
          },
          "showarrow": false,
          "text": "152",
          "x": 1.55,
          "xanchor": "left",
          "xref": "x1",
          "y": 1,
          "yref": "y1"
         },
         {
          "align": "left",
          "font": {
           "color": "#000000"
          },
          "showarrow": false,
          "text": "58",
          "x": 2.55,
          "xanchor": "left",
          "xref": "x1",
          "y": 1,
          "yref": "y1"
         },
         {
          "align": "left",
          "font": {
           "color": "#000000"
          },
          "showarrow": false,
          "text": "Stanford",
          "x": -0.45,
          "xanchor": "left",
          "xref": "x1",
          "y": 2,
          "yref": "y1"
         },
         {
          "align": "left",
          "font": {
           "color": "#000000"
          },
          "showarrow": false,
          "text": "96",
          "x": 0.55,
          "xanchor": "left",
          "xref": "x1",
          "y": 2,
          "yref": "y1"
         },
         {
          "align": "left",
          "font": {
           "color": "#000000"
          },
          "showarrow": false,
          "text": "151",
          "x": 1.55,
          "xanchor": "left",
          "xref": "x1",
          "y": 2,
          "yref": "y1"
         },
         {
          "align": "left",
          "font": {
           "color": "#000000"
          },
          "showarrow": false,
          "text": "55",
          "x": 2.55,
          "xanchor": "left",
          "xref": "x1",
          "y": 2,
          "yref": "y1"
         },
         {
          "align": "left",
          "font": {
           "color": "#000000"
          },
          "showarrow": false,
          "text": "Harvard",
          "x": -0.45,
          "xanchor": "left",
          "xref": "x1",
          "y": 3,
          "yref": "y1"
         },
         {
          "align": "left",
          "font": {
           "color": "#000000"
          },
          "showarrow": false,
          "text": "112",
          "x": 0.55,
          "xanchor": "left",
          "xref": "x1",
          "y": 3,
          "yref": "y1"
         },
         {
          "align": "left",
          "font": {
           "color": "#000000"
          },
          "showarrow": false,
          "text": "165",
          "x": 1.55,
          "xanchor": "left",
          "xref": "x1",
          "y": 3,
          "yref": "y1"
         },
         {
          "align": "left",
          "font": {
           "color": "#000000"
          },
          "showarrow": false,
          "text": "53",
          "x": 2.55,
          "xanchor": "left",
          "xref": "x1",
          "y": 3,
          "yref": "y1"
         },
         {
          "align": "left",
          "font": {
           "color": "#000000"
          },
          "showarrow": false,
          "text": "U.Penn",
          "x": -0.45,
          "xanchor": "left",
          "xref": "x1",
          "y": 4,
          "yref": "y1"
         },
         {
          "align": "left",
          "font": {
           "color": "#000000"
          },
          "showarrow": false,
          "text": "92",
          "x": 0.55,
          "xanchor": "left",
          "xref": "x1",
          "y": 4,
          "yref": "y1"
         },
         {
          "align": "left",
          "font": {
           "color": "#000000"
          },
          "showarrow": false,
          "text": "141",
          "x": 1.55,
          "xanchor": "left",
          "xref": "x1",
          "y": 4,
          "yref": "y1"
         },
         {
          "align": "left",
          "font": {
           "color": "#000000"
          },
          "showarrow": false,
          "text": "49",
          "x": 2.55,
          "xanchor": "left",
          "xref": "x1",
          "y": 4,
          "yref": "y1"
         },
         {
          "align": "left",
          "font": {
           "color": "#000000"
          },
          "showarrow": false,
          "text": "Princeton",
          "x": -0.45,
          "xanchor": "left",
          "xref": "x1",
          "y": 5,
          "yref": "y1"
         },
         {
          "align": "left",
          "font": {
           "color": "#000000"
          },
          "showarrow": false,
          "text": "90",
          "x": 0.55,
          "xanchor": "left",
          "xref": "x1",
          "y": 5,
          "yref": "y1"
         },
         {
          "align": "left",
          "font": {
           "color": "#000000"
          },
          "showarrow": false,
          "text": "137",
          "x": 1.55,
          "xanchor": "left",
          "xref": "x1",
          "y": 5,
          "yref": "y1"
         },
         {
          "align": "left",
          "font": {
           "color": "#000000"
          },
          "showarrow": false,
          "text": "47",
          "x": 2.55,
          "xanchor": "left",
          "xref": "x1",
          "y": 5,
          "yref": "y1"
         },
         {
          "align": "left",
          "font": {
           "color": "#000000"
          },
          "showarrow": false,
          "text": "Chicago",
          "x": -0.45,
          "xanchor": "left",
          "xref": "x1",
          "y": 6,
          "yref": "y1"
         },
         {
          "align": "left",
          "font": {
           "color": "#000000"
          },
          "showarrow": false,
          "text": "78",
          "x": 0.55,
          "xanchor": "left",
          "xref": "x1",
          "y": 6,
          "yref": "y1"
         },
         {
          "align": "left",
          "font": {
           "color": "#000000"
          },
          "showarrow": false,
          "text": "118",
          "x": 1.55,
          "xanchor": "left",
          "xref": "x1",
          "y": 6,
          "yref": "y1"
         },
         {
          "align": "left",
          "font": {
           "color": "#000000"
          },
          "showarrow": false,
          "text": "40",
          "x": 2.55,
          "xanchor": "left",
          "xref": "x1",
          "y": 6,
          "yref": "y1"
         },
         {
          "align": "left",
          "font": {
           "color": "#000000"
          },
          "showarrow": false,
          "text": "Georgetown",
          "x": -0.45,
          "xanchor": "left",
          "xref": "x1",
          "y": 7,
          "yref": "y1"
         },
         {
          "align": "left",
          "font": {
           "color": "#000000"
          },
          "showarrow": false,
          "text": "94",
          "x": 0.55,
          "xanchor": "left",
          "xref": "x1",
          "y": 7,
          "yref": "y1"
         },
         {
          "align": "left",
          "font": {
           "color": "#000000"
          },
          "showarrow": false,
          "text": "131",
          "x": 1.55,
          "xanchor": "left",
          "xref": "x1",
          "y": 7,
          "yref": "y1"
         },
         {
          "align": "left",
          "font": {
           "color": "#000000"
          },
          "showarrow": false,
          "text": "37",
          "x": 2.55,
          "xanchor": "left",
          "xref": "x1",
          "y": 7,
          "yref": "y1"
         },
         {
          "align": "left",
          "font": {
           "color": "#000000"
          },
          "showarrow": false,
          "text": "Tufts",
          "x": -0.45,
          "xanchor": "left",
          "xref": "x1",
          "y": 8,
          "yref": "y1"
         },
         {
          "align": "left",
          "font": {
           "color": "#000000"
          },
          "showarrow": false,
          "text": "76",
          "x": 0.55,
          "xanchor": "left",
          "xref": "x1",
          "y": 8,
          "yref": "y1"
         },
         {
          "align": "left",
          "font": {
           "color": "#000000"
          },
          "showarrow": false,
          "text": "112",
          "x": 1.55,
          "xanchor": "left",
          "xref": "x1",
          "y": 8,
          "yref": "y1"
         },
         {
          "align": "left",
          "font": {
           "color": "#000000"
          },
          "showarrow": false,
          "text": "36",
          "x": 2.55,
          "xanchor": "left",
          "xref": "x1",
          "y": 8,
          "yref": "y1"
         },
         {
          "align": "left",
          "font": {
           "color": "#000000"
          },
          "showarrow": false,
          "text": "Yale",
          "x": -0.45,
          "xanchor": "left",
          "xref": "x1",
          "y": 9,
          "yref": "y1"
         },
         {
          "align": "left",
          "font": {
           "color": "#000000"
          },
          "showarrow": false,
          "text": "79",
          "x": 0.55,
          "xanchor": "left",
          "xref": "x1",
          "y": 9,
          "yref": "y1"
         },
         {
          "align": "left",
          "font": {
           "color": "#000000"
          },
          "showarrow": false,
          "text": "114",
          "x": 1.55,
          "xanchor": "left",
          "xref": "x1",
          "y": 9,
          "yref": "y1"
         },
         {
          "align": "left",
          "font": {
           "color": "#000000"
          },
          "showarrow": false,
          "text": "35",
          "x": 2.55,
          "xanchor": "left",
          "xref": "x1",
          "y": 9,
          "yref": "y1"
         },
         {
          "align": "left",
          "font": {
           "color": "#000000"
          },
          "showarrow": false,
          "text": "Columbia",
          "x": -0.45,
          "xanchor": "left",
          "xref": "x1",
          "y": 10,
          "yref": "y1"
         },
         {
          "align": "left",
          "font": {
           "color": "#000000"
          },
          "showarrow": false,
          "text": "86",
          "x": 0.55,
          "xanchor": "left",
          "xref": "x1",
          "y": 10,
          "yref": "y1"
         },
         {
          "align": "left",
          "font": {
           "color": "#000000"
          },
          "showarrow": false,
          "text": "119",
          "x": 1.55,
          "xanchor": "left",
          "xref": "x1",
          "y": 10,
          "yref": "y1"
         },
         {
          "align": "left",
          "font": {
           "color": "#000000"
          },
          "showarrow": false,
          "text": "33",
          "x": 2.55,
          "xanchor": "left",
          "xref": "x1",
          "y": 10,
          "yref": "y1"
         },
         {
          "align": "left",
          "font": {
           "color": "#000000"
          },
          "showarrow": false,
          "text": "Duke",
          "x": -0.45,
          "xanchor": "left",
          "xref": "x1",
          "y": 11,
          "yref": "y1"
         },
         {
          "align": "left",
          "font": {
           "color": "#000000"
          },
          "showarrow": false,
          "text": "93",
          "x": 0.55,
          "xanchor": "left",
          "xref": "x1",
          "y": 11,
          "yref": "y1"
         },
         {
          "align": "left",
          "font": {
           "color": "#000000"
          },
          "showarrow": false,
          "text": "124",
          "x": 1.55,
          "xanchor": "left",
          "xref": "x1",
          "y": 11,
          "yref": "y1"
         },
         {
          "align": "left",
          "font": {
           "color": "#000000"
          },
          "showarrow": false,
          "text": "31",
          "x": 2.55,
          "xanchor": "left",
          "xref": "x1",
          "y": 11,
          "yref": "y1"
         },
         {
          "align": "left",
          "font": {
           "color": "#000000"
          },
          "showarrow": false,
          "text": "Dartmouth",
          "x": -0.45,
          "xanchor": "left",
          "xref": "x1",
          "y": 12,
          "yref": "y1"
         },
         {
          "align": "left",
          "font": {
           "color": "#000000"
          },
          "showarrow": false,
          "text": "84",
          "x": 0.55,
          "xanchor": "left",
          "xref": "x1",
          "y": 12,
          "yref": "y1"
         },
         {
          "align": "left",
          "font": {
           "color": "#000000"
          },
          "showarrow": false,
          "text": "114",
          "x": 1.55,
          "xanchor": "left",
          "xref": "x1",
          "y": 12,
          "yref": "y1"
         },
         {
          "align": "left",
          "font": {
           "color": "#000000"
          },
          "showarrow": false,
          "text": "30",
          "x": 2.55,
          "xanchor": "left",
          "xref": "x1",
          "y": 12,
          "yref": "y1"
         },
         {
          "align": "left",
          "font": {
           "color": "#000000"
          },
          "showarrow": false,
          "text": "NYU",
          "x": -0.45,
          "xanchor": "left",
          "xref": "x1",
          "y": 13,
          "yref": "y1"
         },
         {
          "align": "left",
          "font": {
           "color": "#000000"
          },
          "showarrow": false,
          "text": "67",
          "x": 0.55,
          "xanchor": "left",
          "xref": "x1",
          "y": 13,
          "yref": "y1"
         },
         {
          "align": "left",
          "font": {
           "color": "#000000"
          },
          "showarrow": false,
          "text": "94",
          "x": 1.55,
          "xanchor": "left",
          "xref": "x1",
          "y": 13,
          "yref": "y1"
         },
         {
          "align": "left",
          "font": {
           "color": "#000000"
          },
          "showarrow": false,
          "text": "27",
          "x": 2.55,
          "xanchor": "left",
          "xref": "x1",
          "y": 13,
          "yref": "y1"
         },
         {
          "align": "left",
          "font": {
           "color": "#000000"
          },
          "showarrow": false,
          "text": "Notre Dame",
          "x": -0.45,
          "xanchor": "left",
          "xref": "x1",
          "y": 14,
          "yref": "y1"
         },
         {
          "align": "left",
          "font": {
           "color": "#000000"
          },
          "showarrow": false,
          "text": "73",
          "x": 0.55,
          "xanchor": "left",
          "xref": "x1",
          "y": 14,
          "yref": "y1"
         },
         {
          "align": "left",
          "font": {
           "color": "#000000"
          },
          "showarrow": false,
          "text": "100",
          "x": 1.55,
          "xanchor": "left",
          "xref": "x1",
          "y": 14,
          "yref": "y1"
         },
         {
          "align": "left",
          "font": {
           "color": "#000000"
          },
          "showarrow": false,
          "text": "27",
          "x": 2.55,
          "xanchor": "left",
          "xref": "x1",
          "y": 14,
          "yref": "y1"
         },
         {
          "align": "left",
          "font": {
           "color": "#000000"
          },
          "showarrow": false,
          "text": "Cornell",
          "x": -0.45,
          "xanchor": "left",
          "xref": "x1",
          "y": 15,
          "yref": "y1"
         },
         {
          "align": "left",
          "font": {
           "color": "#000000"
          },
          "showarrow": false,
          "text": "80",
          "x": 0.55,
          "xanchor": "left",
          "xref": "x1",
          "y": 15,
          "yref": "y1"
         },
         {
          "align": "left",
          "font": {
           "color": "#000000"
          },
          "showarrow": false,
          "text": "107",
          "x": 1.55,
          "xanchor": "left",
          "xref": "x1",
          "y": 15,
          "yref": "y1"
         },
         {
          "align": "left",
          "font": {
           "color": "#000000"
          },
          "showarrow": false,
          "text": "27",
          "x": 2.55,
          "xanchor": "left",
          "xref": "x1",
          "y": 15,
          "yref": "y1"
         },
         {
          "align": "left",
          "font": {
           "color": "#000000"
          },
          "showarrow": false,
          "text": "Michigan",
          "x": -0.45,
          "xanchor": "left",
          "xref": "x1",
          "y": 16,
          "yref": "y1"
         },
         {
          "align": "left",
          "font": {
           "color": "#000000"
          },
          "showarrow": false,
          "text": "62",
          "x": 0.55,
          "xanchor": "left",
          "xref": "x1",
          "y": 16,
          "yref": "y1"
         },
         {
          "align": "left",
          "font": {
           "color": "#000000"
          },
          "showarrow": false,
          "text": "84",
          "x": 1.55,
          "xanchor": "left",
          "xref": "x1",
          "y": 16,
          "yref": "y1"
         },
         {
          "align": "left",
          "font": {
           "color": "#000000"
          },
          "showarrow": false,
          "text": "22",
          "x": 2.55,
          "xanchor": "left",
          "xref": "x1",
          "y": 16,
          "yref": "y1"
         },
         {
          "align": "left",
          "font": {
           "color": "#000000"
          },
          "showarrow": false,
          "text": "Brown",
          "x": -0.45,
          "xanchor": "left",
          "xref": "x1",
          "y": 17,
          "yref": "y1"
         },
         {
          "align": "left",
          "font": {
           "color": "#000000"
          },
          "showarrow": false,
          "text": "72",
          "x": 0.55,
          "xanchor": "left",
          "xref": "x1",
          "y": 17,
          "yref": "y1"
         },
         {
          "align": "left",
          "font": {
           "color": "#000000"
          },
          "showarrow": false,
          "text": "92",
          "x": 1.55,
          "xanchor": "left",
          "xref": "x1",
          "y": 17,
          "yref": "y1"
         },
         {
          "align": "left",
          "font": {
           "color": "#000000"
          },
          "showarrow": false,
          "text": "20",
          "x": 2.55,
          "xanchor": "left",
          "xref": "x1",
          "y": 17,
          "yref": "y1"
         },
         {
          "align": "left",
          "font": {
           "color": "#000000"
          },
          "showarrow": false,
          "text": "Berkeley",
          "x": -0.45,
          "xanchor": "left",
          "xref": "x1",
          "y": 18,
          "yref": "y1"
         },
         {
          "align": "left",
          "font": {
           "color": "#000000"
          },
          "showarrow": false,
          "text": "71",
          "x": 0.55,
          "xanchor": "left",
          "xref": "x1",
          "y": 18,
          "yref": "y1"
         },
         {
          "align": "left",
          "font": {
           "color": "#000000"
          },
          "showarrow": false,
          "text": "88",
          "x": 1.55,
          "xanchor": "left",
          "xref": "x1",
          "y": 18,
          "yref": "y1"
         },
         {
          "align": "left",
          "font": {
           "color": "#000000"
          },
          "showarrow": false,
          "text": "17",
          "x": 2.55,
          "xanchor": "left",
          "xref": "x1",
          "y": 18,
          "yref": "y1"
         },
         {
          "align": "left",
          "font": {
           "color": "#000000"
          },
          "showarrow": false,
          "text": "Emory",
          "x": -0.45,
          "xanchor": "left",
          "xref": "x1",
          "y": 19,
          "yref": "y1"
         },
         {
          "align": "left",
          "font": {
           "color": "#000000"
          },
          "showarrow": false,
          "text": "68",
          "x": 0.55,
          "xanchor": "left",
          "xref": "x1",
          "y": 19,
          "yref": "y1"
         },
         {
          "align": "left",
          "font": {
           "color": "#000000"
          },
          "showarrow": false,
          "text": "82",
          "x": 1.55,
          "xanchor": "left",
          "xref": "x1",
          "y": 19,
          "yref": "y1"
         },
         {
          "align": "left",
          "font": {
           "color": "#000000"
          },
          "showarrow": false,
          "text": "14",
          "x": 2.55,
          "xanchor": "left",
          "xref": "x1",
          "y": 19,
          "yref": "y1"
         },
         {
          "align": "left",
          "font": {
           "color": "#000000"
          },
          "showarrow": false,
          "text": "UCLA",
          "x": -0.45,
          "xanchor": "left",
          "xref": "x1",
          "y": 20,
          "yref": "y1"
         },
         {
          "align": "left",
          "font": {
           "color": "#000000"
          },
          "showarrow": false,
          "text": "64",
          "x": 0.55,
          "xanchor": "left",
          "xref": "x1",
          "y": 20,
          "yref": "y1"
         },
         {
          "align": "left",
          "font": {
           "color": "#000000"
          },
          "showarrow": false,
          "text": "78",
          "x": 1.55,
          "xanchor": "left",
          "xref": "x1",
          "y": 20,
          "yref": "y1"
         },
         {
          "align": "left",
          "font": {
           "color": "#000000"
          },
          "showarrow": false,
          "text": "14",
          "x": 2.55,
          "xanchor": "left",
          "xref": "x1",
          "y": 20,
          "yref": "y1"
         },
         {
          "align": "left",
          "font": {
           "color": "#000000"
          },
          "showarrow": false,
          "text": "SoCal",
          "x": -0.45,
          "xanchor": "left",
          "xref": "x1",
          "y": 21,
          "yref": "y1"
         },
         {
          "align": "left",
          "font": {
           "color": "#000000"
          },
          "showarrow": false,
          "text": "72",
          "x": 0.55,
          "xanchor": "left",
          "xref": "x1",
          "y": 21,
          "yref": "y1"
         },
         {
          "align": "left",
          "font": {
           "color": "#000000"
          },
          "showarrow": false,
          "text": "81",
          "x": 1.55,
          "xanchor": "left",
          "xref": "x1",
          "y": 21,
          "yref": "y1"
         },
         {
          "align": "left",
          "font": {
           "color": "#000000"
          },
          "showarrow": false,
          "text": "9",
          "x": 2.55,
          "xanchor": "left",
          "xref": "x1",
          "y": 21,
          "yref": "y1"
         }
        ],
        "height": 710,
        "margin": {
         "b": 0,
         "l": 0,
         "r": 0,
         "t": 0
        },
        "xaxis": {
         "dtick": 1,
         "gridwidth": 2,
         "showticklabels": false,
         "tick0": -0.5,
         "ticks": "",
         "zeroline": false
        },
        "yaxis": {
         "autorange": "reversed",
         "dtick": 1,
         "gridwidth": 2,
         "showticklabels": false,
         "tick0": 0.5,
         "ticks": "",
         "zeroline": false
        }
       }
      },
      "text/html": [
       "<div id=\"2f84ebc9-806d-4d03-97cf-6138e9770b1c\" style=\"height: 710px; width: 100%;\" class=\"plotly-graph-div\"></div><script type=\"text/javascript\">require([\"plotly\"], function(Plotly) { window.PLOTLYENV=window.PLOTLYENV || {};window.PLOTLYENV.BASE_URL=\"https://plot.ly\";Plotly.newPlot(\"2f84ebc9-806d-4d03-97cf-6138e9770b1c\", [{\"type\": \"heatmap\", \"z\": [[0, 0, 0, 0], [0.5, 0.5, 0.5, 0.5], [1, 1, 1, 1], [0.5, 0.5, 0.5, 0.5], [1, 1, 1, 1], [0.5, 0.5, 0.5, 0.5], [1, 1, 1, 1], [0.5, 0.5, 0.5, 0.5], [1, 1, 1, 1], [0.5, 0.5, 0.5, 0.5], [1, 1, 1, 1], [0.5, 0.5, 0.5, 0.5], [1, 1, 1, 1], [0.5, 0.5, 0.5, 0.5], [1, 1, 1, 1], [0.5, 0.5, 0.5, 0.5], [1, 1, 1, 1], [0.5, 0.5, 0.5, 0.5], [1, 1, 1, 1], [0.5, 0.5, 0.5, 0.5], [1, 1, 1, 1], [0.5, 0.5, 0.5, 0.5]], \"opacity\": 0.75, \"colorscale\": [[0, \"#00083e\"], [0.5, \"#ededee\"], [1, \"#ffffff\"]], \"showscale\": false, \"hoverinfo\": \"none\"}], {\"annotations\": [{\"text\": \"<b>School</b>\", \"x\": -0.45, \"y\": 0, \"xref\": \"x1\", \"yref\": \"y1\", \"align\": \"left\", \"xanchor\": \"left\", \"font\": {\"color\": \"#ffffff\"}, \"showarrow\": false}, {\"text\": \"<b>Women</b>\", \"x\": 0.55, \"y\": 0, \"xref\": \"x1\", \"yref\": \"y1\", \"align\": \"left\", \"xanchor\": \"left\", \"font\": {\"color\": \"#ffffff\"}, \"showarrow\": false}, {\"text\": \"<b>Men</b>\", \"x\": 1.55, \"y\": 0, \"xref\": \"x1\", \"yref\": \"y1\", \"align\": \"left\", \"xanchor\": \"left\", \"font\": {\"color\": \"#ffffff\"}, \"showarrow\": false}, {\"text\": \"<b>gap</b>\", \"x\": 2.55, \"y\": 0, \"xref\": \"x1\", \"yref\": \"y1\", \"align\": \"left\", \"xanchor\": \"left\", \"font\": {\"color\": \"#ffffff\"}, \"showarrow\": false}, {\"text\": \"MIT\", \"x\": -0.45, \"y\": 1, \"xref\": \"x1\", \"yref\": \"y1\", \"align\": \"left\", \"xanchor\": \"left\", \"font\": {\"color\": \"#000000\"}, \"showarrow\": false}, {\"text\": \"94\", \"x\": 0.55, \"y\": 1, \"xref\": \"x1\", \"yref\": \"y1\", \"align\": \"left\", \"xanchor\": \"left\", \"font\": {\"color\": \"#000000\"}, \"showarrow\": false}, {\"text\": \"152\", \"x\": 1.55, \"y\": 1, \"xref\": \"x1\", \"yref\": \"y1\", \"align\": \"left\", \"xanchor\": \"left\", \"font\": {\"color\": \"#000000\"}, \"showarrow\": false}, {\"text\": \"58\", \"x\": 2.55, \"y\": 1, \"xref\": \"x1\", \"yref\": \"y1\", \"align\": \"left\", \"xanchor\": \"left\", \"font\": {\"color\": \"#000000\"}, \"showarrow\": false}, {\"text\": \"Stanford\", \"x\": -0.45, \"y\": 2, \"xref\": \"x1\", \"yref\": \"y1\", \"align\": \"left\", \"xanchor\": \"left\", \"font\": {\"color\": \"#000000\"}, \"showarrow\": false}, {\"text\": \"96\", \"x\": 0.55, \"y\": 2, \"xref\": \"x1\", \"yref\": \"y1\", \"align\": \"left\", \"xanchor\": \"left\", \"font\": {\"color\": \"#000000\"}, \"showarrow\": false}, {\"text\": \"151\", \"x\": 1.55, \"y\": 2, \"xref\": \"x1\", \"yref\": \"y1\", \"align\": \"left\", \"xanchor\": \"left\", \"font\": {\"color\": \"#000000\"}, \"showarrow\": false}, {\"text\": \"55\", \"x\": 2.55, \"y\": 2, \"xref\": \"x1\", \"yref\": \"y1\", \"align\": \"left\", \"xanchor\": \"left\", \"font\": {\"color\": \"#000000\"}, \"showarrow\": false}, {\"text\": \"Harvard\", \"x\": -0.45, \"y\": 3, \"xref\": \"x1\", \"yref\": \"y1\", \"align\": \"left\", \"xanchor\": \"left\", \"font\": {\"color\": \"#000000\"}, \"showarrow\": false}, {\"text\": \"112\", \"x\": 0.55, \"y\": 3, \"xref\": \"x1\", \"yref\": \"y1\", \"align\": \"left\", \"xanchor\": \"left\", \"font\": {\"color\": \"#000000\"}, \"showarrow\": false}, {\"text\": \"165\", \"x\": 1.55, \"y\": 3, \"xref\": \"x1\", \"yref\": \"y1\", \"align\": \"left\", \"xanchor\": \"left\", \"font\": {\"color\": \"#000000\"}, \"showarrow\": false}, {\"text\": \"53\", \"x\": 2.55, \"y\": 3, \"xref\": \"x1\", \"yref\": \"y1\", \"align\": \"left\", \"xanchor\": \"left\", \"font\": {\"color\": \"#000000\"}, \"showarrow\": false}, {\"text\": \"U.Penn\", \"x\": -0.45, \"y\": 4, \"xref\": \"x1\", \"yref\": \"y1\", \"align\": \"left\", \"xanchor\": \"left\", \"font\": {\"color\": \"#000000\"}, \"showarrow\": false}, {\"text\": \"92\", \"x\": 0.55, \"y\": 4, \"xref\": \"x1\", \"yref\": \"y1\", \"align\": \"left\", \"xanchor\": \"left\", \"font\": {\"color\": \"#000000\"}, \"showarrow\": false}, {\"text\": \"141\", \"x\": 1.55, \"y\": 4, \"xref\": \"x1\", \"yref\": \"y1\", \"align\": \"left\", \"xanchor\": \"left\", \"font\": {\"color\": \"#000000\"}, \"showarrow\": false}, {\"text\": \"49\", \"x\": 2.55, \"y\": 4, \"xref\": \"x1\", \"yref\": \"y1\", \"align\": \"left\", \"xanchor\": \"left\", \"font\": {\"color\": \"#000000\"}, \"showarrow\": false}, {\"text\": \"Princeton\", \"x\": -0.45, \"y\": 5, \"xref\": \"x1\", \"yref\": \"y1\", \"align\": \"left\", \"xanchor\": \"left\", \"font\": {\"color\": \"#000000\"}, \"showarrow\": false}, {\"text\": \"90\", \"x\": 0.55, \"y\": 5, \"xref\": \"x1\", \"yref\": \"y1\", \"align\": \"left\", \"xanchor\": \"left\", \"font\": {\"color\": \"#000000\"}, \"showarrow\": false}, {\"text\": \"137\", \"x\": 1.55, \"y\": 5, \"xref\": \"x1\", \"yref\": \"y1\", \"align\": \"left\", \"xanchor\": \"left\", \"font\": {\"color\": \"#000000\"}, \"showarrow\": false}, {\"text\": \"47\", \"x\": 2.55, \"y\": 5, \"xref\": \"x1\", \"yref\": \"y1\", \"align\": \"left\", \"xanchor\": \"left\", \"font\": {\"color\": \"#000000\"}, \"showarrow\": false}, {\"text\": \"Chicago\", \"x\": -0.45, \"y\": 6, \"xref\": \"x1\", \"yref\": \"y1\", \"align\": \"left\", \"xanchor\": \"left\", \"font\": {\"color\": \"#000000\"}, \"showarrow\": false}, {\"text\": \"78\", \"x\": 0.55, \"y\": 6, \"xref\": \"x1\", \"yref\": \"y1\", \"align\": \"left\", \"xanchor\": \"left\", \"font\": {\"color\": \"#000000\"}, \"showarrow\": false}, {\"text\": \"118\", \"x\": 1.55, \"y\": 6, \"xref\": \"x1\", \"yref\": \"y1\", \"align\": \"left\", \"xanchor\": \"left\", \"font\": {\"color\": \"#000000\"}, \"showarrow\": false}, {\"text\": \"40\", \"x\": 2.55, \"y\": 6, \"xref\": \"x1\", \"yref\": \"y1\", \"align\": \"left\", \"xanchor\": \"left\", \"font\": {\"color\": \"#000000\"}, \"showarrow\": false}, {\"text\": \"Georgetown\", \"x\": -0.45, \"y\": 7, \"xref\": \"x1\", \"yref\": \"y1\", \"align\": \"left\", \"xanchor\": \"left\", \"font\": {\"color\": \"#000000\"}, \"showarrow\": false}, {\"text\": \"94\", \"x\": 0.55, \"y\": 7, \"xref\": \"x1\", \"yref\": \"y1\", \"align\": \"left\", \"xanchor\": \"left\", \"font\": {\"color\": \"#000000\"}, \"showarrow\": false}, {\"text\": \"131\", \"x\": 1.55, \"y\": 7, \"xref\": \"x1\", \"yref\": \"y1\", \"align\": \"left\", \"xanchor\": \"left\", \"font\": {\"color\": \"#000000\"}, \"showarrow\": false}, {\"text\": \"37\", \"x\": 2.55, \"y\": 7, \"xref\": \"x1\", \"yref\": \"y1\", \"align\": \"left\", \"xanchor\": \"left\", \"font\": {\"color\": \"#000000\"}, \"showarrow\": false}, {\"text\": \"Tufts\", \"x\": -0.45, \"y\": 8, \"xref\": \"x1\", \"yref\": \"y1\", \"align\": \"left\", \"xanchor\": \"left\", \"font\": {\"color\": \"#000000\"}, \"showarrow\": false}, {\"text\": \"76\", \"x\": 0.55, \"y\": 8, \"xref\": \"x1\", \"yref\": \"y1\", \"align\": \"left\", \"xanchor\": \"left\", \"font\": {\"color\": \"#000000\"}, \"showarrow\": false}, {\"text\": \"112\", \"x\": 1.55, \"y\": 8, \"xref\": \"x1\", \"yref\": \"y1\", \"align\": \"left\", \"xanchor\": \"left\", \"font\": {\"color\": \"#000000\"}, \"showarrow\": false}, {\"text\": \"36\", \"x\": 2.55, \"y\": 8, \"xref\": \"x1\", \"yref\": \"y1\", \"align\": \"left\", \"xanchor\": \"left\", \"font\": {\"color\": \"#000000\"}, \"showarrow\": false}, {\"text\": \"Yale\", \"x\": -0.45, \"y\": 9, \"xref\": \"x1\", \"yref\": \"y1\", \"align\": \"left\", \"xanchor\": \"left\", \"font\": {\"color\": \"#000000\"}, \"showarrow\": false}, {\"text\": \"79\", \"x\": 0.55, \"y\": 9, \"xref\": \"x1\", \"yref\": \"y1\", \"align\": \"left\", \"xanchor\": \"left\", \"font\": {\"color\": \"#000000\"}, \"showarrow\": false}, {\"text\": \"114\", \"x\": 1.55, \"y\": 9, \"xref\": \"x1\", \"yref\": \"y1\", \"align\": \"left\", \"xanchor\": \"left\", \"font\": {\"color\": \"#000000\"}, \"showarrow\": false}, {\"text\": \"35\", \"x\": 2.55, \"y\": 9, \"xref\": \"x1\", \"yref\": \"y1\", \"align\": \"left\", \"xanchor\": \"left\", \"font\": {\"color\": \"#000000\"}, \"showarrow\": false}, {\"text\": \"Columbia\", \"x\": -0.45, \"y\": 10, \"xref\": \"x1\", \"yref\": \"y1\", \"align\": \"left\", \"xanchor\": \"left\", \"font\": {\"color\": \"#000000\"}, \"showarrow\": false}, {\"text\": \"86\", \"x\": 0.55, \"y\": 10, \"xref\": \"x1\", \"yref\": \"y1\", \"align\": \"left\", \"xanchor\": \"left\", \"font\": {\"color\": \"#000000\"}, \"showarrow\": false}, {\"text\": \"119\", \"x\": 1.55, \"y\": 10, \"xref\": \"x1\", \"yref\": \"y1\", \"align\": \"left\", \"xanchor\": \"left\", \"font\": {\"color\": \"#000000\"}, \"showarrow\": false}, {\"text\": \"33\", \"x\": 2.55, \"y\": 10, \"xref\": \"x1\", \"yref\": \"y1\", \"align\": \"left\", \"xanchor\": \"left\", \"font\": {\"color\": \"#000000\"}, \"showarrow\": false}, {\"text\": \"Duke\", \"x\": -0.45, \"y\": 11, \"xref\": \"x1\", \"yref\": \"y1\", \"align\": \"left\", \"xanchor\": \"left\", \"font\": {\"color\": \"#000000\"}, \"showarrow\": false}, {\"text\": \"93\", \"x\": 0.55, \"y\": 11, \"xref\": \"x1\", \"yref\": \"y1\", \"align\": \"left\", \"xanchor\": \"left\", \"font\": {\"color\": \"#000000\"}, \"showarrow\": false}, {\"text\": \"124\", \"x\": 1.55, \"y\": 11, \"xref\": \"x1\", \"yref\": \"y1\", \"align\": \"left\", \"xanchor\": \"left\", \"font\": {\"color\": \"#000000\"}, \"showarrow\": false}, {\"text\": \"31\", \"x\": 2.55, \"y\": 11, \"xref\": \"x1\", \"yref\": \"y1\", \"align\": \"left\", \"xanchor\": \"left\", \"font\": {\"color\": \"#000000\"}, \"showarrow\": false}, {\"text\": \"Dartmouth\", \"x\": -0.45, \"y\": 12, \"xref\": \"x1\", \"yref\": \"y1\", \"align\": \"left\", \"xanchor\": \"left\", \"font\": {\"color\": \"#000000\"}, \"showarrow\": false}, {\"text\": \"84\", \"x\": 0.55, \"y\": 12, \"xref\": \"x1\", \"yref\": \"y1\", \"align\": \"left\", \"xanchor\": \"left\", \"font\": {\"color\": \"#000000\"}, \"showarrow\": false}, {\"text\": \"114\", \"x\": 1.55, \"y\": 12, \"xref\": \"x1\", \"yref\": \"y1\", \"align\": \"left\", \"xanchor\": \"left\", \"font\": {\"color\": \"#000000\"}, \"showarrow\": false}, {\"text\": \"30\", \"x\": 2.55, \"y\": 12, \"xref\": \"x1\", \"yref\": \"y1\", \"align\": \"left\", \"xanchor\": \"left\", \"font\": {\"color\": \"#000000\"}, \"showarrow\": false}, {\"text\": \"NYU\", \"x\": -0.45, \"y\": 13, \"xref\": \"x1\", \"yref\": \"y1\", \"align\": \"left\", \"xanchor\": \"left\", \"font\": {\"color\": \"#000000\"}, \"showarrow\": false}, {\"text\": \"67\", \"x\": 0.55, \"y\": 13, \"xref\": \"x1\", \"yref\": \"y1\", \"align\": \"left\", \"xanchor\": \"left\", \"font\": {\"color\": \"#000000\"}, \"showarrow\": false}, {\"text\": \"94\", \"x\": 1.55, \"y\": 13, \"xref\": \"x1\", \"yref\": \"y1\", \"align\": \"left\", \"xanchor\": \"left\", \"font\": {\"color\": \"#000000\"}, \"showarrow\": false}, {\"text\": \"27\", \"x\": 2.55, \"y\": 13, \"xref\": \"x1\", \"yref\": \"y1\", \"align\": \"left\", \"xanchor\": \"left\", \"font\": {\"color\": \"#000000\"}, \"showarrow\": false}, {\"text\": \"Notre Dame\", \"x\": -0.45, \"y\": 14, \"xref\": \"x1\", \"yref\": \"y1\", \"align\": \"left\", \"xanchor\": \"left\", \"font\": {\"color\": \"#000000\"}, \"showarrow\": false}, {\"text\": \"73\", \"x\": 0.55, \"y\": 14, \"xref\": \"x1\", \"yref\": \"y1\", \"align\": \"left\", \"xanchor\": \"left\", \"font\": {\"color\": \"#000000\"}, \"showarrow\": false}, {\"text\": \"100\", \"x\": 1.55, \"y\": 14, \"xref\": \"x1\", \"yref\": \"y1\", \"align\": \"left\", \"xanchor\": \"left\", \"font\": {\"color\": \"#000000\"}, \"showarrow\": false}, {\"text\": \"27\", \"x\": 2.55, \"y\": 14, \"xref\": \"x1\", \"yref\": \"y1\", \"align\": \"left\", \"xanchor\": \"left\", \"font\": {\"color\": \"#000000\"}, \"showarrow\": false}, {\"text\": \"Cornell\", \"x\": -0.45, \"y\": 15, \"xref\": \"x1\", \"yref\": \"y1\", \"align\": \"left\", \"xanchor\": \"left\", \"font\": {\"color\": \"#000000\"}, \"showarrow\": false}, {\"text\": \"80\", \"x\": 0.55, \"y\": 15, \"xref\": \"x1\", \"yref\": \"y1\", \"align\": \"left\", \"xanchor\": \"left\", \"font\": {\"color\": \"#000000\"}, \"showarrow\": false}, {\"text\": \"107\", \"x\": 1.55, \"y\": 15, \"xref\": \"x1\", \"yref\": \"y1\", \"align\": \"left\", \"xanchor\": \"left\", \"font\": {\"color\": \"#000000\"}, \"showarrow\": false}, {\"text\": \"27\", \"x\": 2.55, \"y\": 15, \"xref\": \"x1\", \"yref\": \"y1\", \"align\": \"left\", \"xanchor\": \"left\", \"font\": {\"color\": \"#000000\"}, \"showarrow\": false}, {\"text\": \"Michigan\", \"x\": -0.45, \"y\": 16, \"xref\": \"x1\", \"yref\": \"y1\", \"align\": \"left\", \"xanchor\": \"left\", \"font\": {\"color\": \"#000000\"}, \"showarrow\": false}, {\"text\": \"62\", \"x\": 0.55, \"y\": 16, \"xref\": \"x1\", \"yref\": \"y1\", \"align\": \"left\", \"xanchor\": \"left\", \"font\": {\"color\": \"#000000\"}, \"showarrow\": false}, {\"text\": \"84\", \"x\": 1.55, \"y\": 16, \"xref\": \"x1\", \"yref\": \"y1\", \"align\": \"left\", \"xanchor\": \"left\", \"font\": {\"color\": \"#000000\"}, \"showarrow\": false}, {\"text\": \"22\", \"x\": 2.55, \"y\": 16, \"xref\": \"x1\", \"yref\": \"y1\", \"align\": \"left\", \"xanchor\": \"left\", \"font\": {\"color\": \"#000000\"}, \"showarrow\": false}, {\"text\": \"Brown\", \"x\": -0.45, \"y\": 17, \"xref\": \"x1\", \"yref\": \"y1\", \"align\": \"left\", \"xanchor\": \"left\", \"font\": {\"color\": \"#000000\"}, \"showarrow\": false}, {\"text\": \"72\", \"x\": 0.55, \"y\": 17, \"xref\": \"x1\", \"yref\": \"y1\", \"align\": \"left\", \"xanchor\": \"left\", \"font\": {\"color\": \"#000000\"}, \"showarrow\": false}, {\"text\": \"92\", \"x\": 1.55, \"y\": 17, \"xref\": \"x1\", \"yref\": \"y1\", \"align\": \"left\", \"xanchor\": \"left\", \"font\": {\"color\": \"#000000\"}, \"showarrow\": false}, {\"text\": \"20\", \"x\": 2.55, \"y\": 17, \"xref\": \"x1\", \"yref\": \"y1\", \"align\": \"left\", \"xanchor\": \"left\", \"font\": {\"color\": \"#000000\"}, \"showarrow\": false}, {\"text\": \"Berkeley\", \"x\": -0.45, \"y\": 18, \"xref\": \"x1\", \"yref\": \"y1\", \"align\": \"left\", \"xanchor\": \"left\", \"font\": {\"color\": \"#000000\"}, \"showarrow\": false}, {\"text\": \"71\", \"x\": 0.55, \"y\": 18, \"xref\": \"x1\", \"yref\": \"y1\", \"align\": \"left\", \"xanchor\": \"left\", \"font\": {\"color\": \"#000000\"}, \"showarrow\": false}, {\"text\": \"88\", \"x\": 1.55, \"y\": 18, \"xref\": \"x1\", \"yref\": \"y1\", \"align\": \"left\", \"xanchor\": \"left\", \"font\": {\"color\": \"#000000\"}, \"showarrow\": false}, {\"text\": \"17\", \"x\": 2.55, \"y\": 18, \"xref\": \"x1\", \"yref\": \"y1\", \"align\": \"left\", \"xanchor\": \"left\", \"font\": {\"color\": \"#000000\"}, \"showarrow\": false}, {\"text\": \"Emory\", \"x\": -0.45, \"y\": 19, \"xref\": \"x1\", \"yref\": \"y1\", \"align\": \"left\", \"xanchor\": \"left\", \"font\": {\"color\": \"#000000\"}, \"showarrow\": false}, {\"text\": \"68\", \"x\": 0.55, \"y\": 19, \"xref\": \"x1\", \"yref\": \"y1\", \"align\": \"left\", \"xanchor\": \"left\", \"font\": {\"color\": \"#000000\"}, \"showarrow\": false}, {\"text\": \"82\", \"x\": 1.55, \"y\": 19, \"xref\": \"x1\", \"yref\": \"y1\", \"align\": \"left\", \"xanchor\": \"left\", \"font\": {\"color\": \"#000000\"}, \"showarrow\": false}, {\"text\": \"14\", \"x\": 2.55, \"y\": 19, \"xref\": \"x1\", \"yref\": \"y1\", \"align\": \"left\", \"xanchor\": \"left\", \"font\": {\"color\": \"#000000\"}, \"showarrow\": false}, {\"text\": \"UCLA\", \"x\": -0.45, \"y\": 20, \"xref\": \"x1\", \"yref\": \"y1\", \"align\": \"left\", \"xanchor\": \"left\", \"font\": {\"color\": \"#000000\"}, \"showarrow\": false}, {\"text\": \"64\", \"x\": 0.55, \"y\": 20, \"xref\": \"x1\", \"yref\": \"y1\", \"align\": \"left\", \"xanchor\": \"left\", \"font\": {\"color\": \"#000000\"}, \"showarrow\": false}, {\"text\": \"78\", \"x\": 1.55, \"y\": 20, \"xref\": \"x1\", \"yref\": \"y1\", \"align\": \"left\", \"xanchor\": \"left\", \"font\": {\"color\": \"#000000\"}, \"showarrow\": false}, {\"text\": \"14\", \"x\": 2.55, \"y\": 20, \"xref\": \"x1\", \"yref\": \"y1\", \"align\": \"left\", \"xanchor\": \"left\", \"font\": {\"color\": \"#000000\"}, \"showarrow\": false}, {\"text\": \"SoCal\", \"x\": -0.45, \"y\": 21, \"xref\": \"x1\", \"yref\": \"y1\", \"align\": \"left\", \"xanchor\": \"left\", \"font\": {\"color\": \"#000000\"}, \"showarrow\": false}, {\"text\": \"72\", \"x\": 0.55, \"y\": 21, \"xref\": \"x1\", \"yref\": \"y1\", \"align\": \"left\", \"xanchor\": \"left\", \"font\": {\"color\": \"#000000\"}, \"showarrow\": false}, {\"text\": \"81\", \"x\": 1.55, \"y\": 21, \"xref\": \"x1\", \"yref\": \"y1\", \"align\": \"left\", \"xanchor\": \"left\", \"font\": {\"color\": \"#000000\"}, \"showarrow\": false}, {\"text\": \"9\", \"x\": 2.55, \"y\": 21, \"xref\": \"x1\", \"yref\": \"y1\", \"align\": \"left\", \"xanchor\": \"left\", \"font\": {\"color\": \"#000000\"}, \"showarrow\": false}], \"height\": 710, \"margin\": {\"t\": 0, \"b\": 0, \"r\": 0, \"l\": 0}, \"yaxis\": {\"autorange\": \"reversed\", \"zeroline\": false, \"gridwidth\": 2, \"ticks\": \"\", \"dtick\": 1, \"tick0\": 0.5, \"showticklabels\": false}, \"xaxis\": {\"zeroline\": false, \"gridwidth\": 2, \"ticks\": \"\", \"dtick\": 1, \"tick0\": -0.5, \"showticklabels\": false}}, {\"showLink\": true, \"linkText\": \"Export to plot.ly\"})});</script>"
      ],
      "text/vnd.plotly.v1+html": [
       "<div id=\"2f84ebc9-806d-4d03-97cf-6138e9770b1c\" style=\"height: 710px; width: 100%;\" class=\"plotly-graph-div\"></div><script type=\"text/javascript\">require([\"plotly\"], function(Plotly) { window.PLOTLYENV=window.PLOTLYENV || {};window.PLOTLYENV.BASE_URL=\"https://plot.ly\";Plotly.newPlot(\"2f84ebc9-806d-4d03-97cf-6138e9770b1c\", [{\"type\": \"heatmap\", \"z\": [[0, 0, 0, 0], [0.5, 0.5, 0.5, 0.5], [1, 1, 1, 1], [0.5, 0.5, 0.5, 0.5], [1, 1, 1, 1], [0.5, 0.5, 0.5, 0.5], [1, 1, 1, 1], [0.5, 0.5, 0.5, 0.5], [1, 1, 1, 1], [0.5, 0.5, 0.5, 0.5], [1, 1, 1, 1], [0.5, 0.5, 0.5, 0.5], [1, 1, 1, 1], [0.5, 0.5, 0.5, 0.5], [1, 1, 1, 1], [0.5, 0.5, 0.5, 0.5], [1, 1, 1, 1], [0.5, 0.5, 0.5, 0.5], [1, 1, 1, 1], [0.5, 0.5, 0.5, 0.5], [1, 1, 1, 1], [0.5, 0.5, 0.5, 0.5]], \"opacity\": 0.75, \"colorscale\": [[0, \"#00083e\"], [0.5, \"#ededee\"], [1, \"#ffffff\"]], \"showscale\": false, \"hoverinfo\": \"none\"}], {\"annotations\": [{\"text\": \"<b>School</b>\", \"x\": -0.45, \"y\": 0, \"xref\": \"x1\", \"yref\": \"y1\", \"align\": \"left\", \"xanchor\": \"left\", \"font\": {\"color\": \"#ffffff\"}, \"showarrow\": false}, {\"text\": \"<b>Women</b>\", \"x\": 0.55, \"y\": 0, \"xref\": \"x1\", \"yref\": \"y1\", \"align\": \"left\", \"xanchor\": \"left\", \"font\": {\"color\": \"#ffffff\"}, \"showarrow\": false}, {\"text\": \"<b>Men</b>\", \"x\": 1.55, \"y\": 0, \"xref\": \"x1\", \"yref\": \"y1\", \"align\": \"left\", \"xanchor\": \"left\", \"font\": {\"color\": \"#ffffff\"}, \"showarrow\": false}, {\"text\": \"<b>gap</b>\", \"x\": 2.55, \"y\": 0, \"xref\": \"x1\", \"yref\": \"y1\", \"align\": \"left\", \"xanchor\": \"left\", \"font\": {\"color\": \"#ffffff\"}, \"showarrow\": false}, {\"text\": \"MIT\", \"x\": -0.45, \"y\": 1, \"xref\": \"x1\", \"yref\": \"y1\", \"align\": \"left\", \"xanchor\": \"left\", \"font\": {\"color\": \"#000000\"}, \"showarrow\": false}, {\"text\": \"94\", \"x\": 0.55, \"y\": 1, \"xref\": \"x1\", \"yref\": \"y1\", \"align\": \"left\", \"xanchor\": \"left\", \"font\": {\"color\": \"#000000\"}, \"showarrow\": false}, {\"text\": \"152\", \"x\": 1.55, \"y\": 1, \"xref\": \"x1\", \"yref\": \"y1\", \"align\": \"left\", \"xanchor\": \"left\", \"font\": {\"color\": \"#000000\"}, \"showarrow\": false}, {\"text\": \"58\", \"x\": 2.55, \"y\": 1, \"xref\": \"x1\", \"yref\": \"y1\", \"align\": \"left\", \"xanchor\": \"left\", \"font\": {\"color\": \"#000000\"}, \"showarrow\": false}, {\"text\": \"Stanford\", \"x\": -0.45, \"y\": 2, \"xref\": \"x1\", \"yref\": \"y1\", \"align\": \"left\", \"xanchor\": \"left\", \"font\": {\"color\": \"#000000\"}, \"showarrow\": false}, {\"text\": \"96\", \"x\": 0.55, \"y\": 2, \"xref\": \"x1\", \"yref\": \"y1\", \"align\": \"left\", \"xanchor\": \"left\", \"font\": {\"color\": \"#000000\"}, \"showarrow\": false}, {\"text\": \"151\", \"x\": 1.55, \"y\": 2, \"xref\": \"x1\", \"yref\": \"y1\", \"align\": \"left\", \"xanchor\": \"left\", \"font\": {\"color\": \"#000000\"}, \"showarrow\": false}, {\"text\": \"55\", \"x\": 2.55, \"y\": 2, \"xref\": \"x1\", \"yref\": \"y1\", \"align\": \"left\", \"xanchor\": \"left\", \"font\": {\"color\": \"#000000\"}, \"showarrow\": false}, {\"text\": \"Harvard\", \"x\": -0.45, \"y\": 3, \"xref\": \"x1\", \"yref\": \"y1\", \"align\": \"left\", \"xanchor\": \"left\", \"font\": {\"color\": \"#000000\"}, \"showarrow\": false}, {\"text\": \"112\", \"x\": 0.55, \"y\": 3, \"xref\": \"x1\", \"yref\": \"y1\", \"align\": \"left\", \"xanchor\": \"left\", \"font\": {\"color\": \"#000000\"}, \"showarrow\": false}, {\"text\": \"165\", \"x\": 1.55, \"y\": 3, \"xref\": \"x1\", \"yref\": \"y1\", \"align\": \"left\", \"xanchor\": \"left\", \"font\": {\"color\": \"#000000\"}, \"showarrow\": false}, {\"text\": \"53\", \"x\": 2.55, \"y\": 3, \"xref\": \"x1\", \"yref\": \"y1\", \"align\": \"left\", \"xanchor\": \"left\", \"font\": {\"color\": \"#000000\"}, \"showarrow\": false}, {\"text\": \"U.Penn\", \"x\": -0.45, \"y\": 4, \"xref\": \"x1\", \"yref\": \"y1\", \"align\": \"left\", \"xanchor\": \"left\", \"font\": {\"color\": \"#000000\"}, \"showarrow\": false}, {\"text\": \"92\", \"x\": 0.55, \"y\": 4, \"xref\": \"x1\", \"yref\": \"y1\", \"align\": \"left\", \"xanchor\": \"left\", \"font\": {\"color\": \"#000000\"}, \"showarrow\": false}, {\"text\": \"141\", \"x\": 1.55, \"y\": 4, \"xref\": \"x1\", \"yref\": \"y1\", \"align\": \"left\", \"xanchor\": \"left\", \"font\": {\"color\": \"#000000\"}, \"showarrow\": false}, {\"text\": \"49\", \"x\": 2.55, \"y\": 4, \"xref\": \"x1\", \"yref\": \"y1\", \"align\": \"left\", \"xanchor\": \"left\", \"font\": {\"color\": \"#000000\"}, \"showarrow\": false}, {\"text\": \"Princeton\", \"x\": -0.45, \"y\": 5, \"xref\": \"x1\", \"yref\": \"y1\", \"align\": \"left\", \"xanchor\": \"left\", \"font\": {\"color\": \"#000000\"}, \"showarrow\": false}, {\"text\": \"90\", \"x\": 0.55, \"y\": 5, \"xref\": \"x1\", \"yref\": \"y1\", \"align\": \"left\", \"xanchor\": \"left\", \"font\": {\"color\": \"#000000\"}, \"showarrow\": false}, {\"text\": \"137\", \"x\": 1.55, \"y\": 5, \"xref\": \"x1\", \"yref\": \"y1\", \"align\": \"left\", \"xanchor\": \"left\", \"font\": {\"color\": \"#000000\"}, \"showarrow\": false}, {\"text\": \"47\", \"x\": 2.55, \"y\": 5, \"xref\": \"x1\", \"yref\": \"y1\", \"align\": \"left\", \"xanchor\": \"left\", \"font\": {\"color\": \"#000000\"}, \"showarrow\": false}, {\"text\": \"Chicago\", \"x\": -0.45, \"y\": 6, \"xref\": \"x1\", \"yref\": \"y1\", \"align\": \"left\", \"xanchor\": \"left\", \"font\": {\"color\": \"#000000\"}, \"showarrow\": false}, {\"text\": \"78\", \"x\": 0.55, \"y\": 6, \"xref\": \"x1\", \"yref\": \"y1\", \"align\": \"left\", \"xanchor\": \"left\", \"font\": {\"color\": \"#000000\"}, \"showarrow\": false}, {\"text\": \"118\", \"x\": 1.55, \"y\": 6, \"xref\": \"x1\", \"yref\": \"y1\", \"align\": \"left\", \"xanchor\": \"left\", \"font\": {\"color\": \"#000000\"}, \"showarrow\": false}, {\"text\": \"40\", \"x\": 2.55, \"y\": 6, \"xref\": \"x1\", \"yref\": \"y1\", \"align\": \"left\", \"xanchor\": \"left\", \"font\": {\"color\": \"#000000\"}, \"showarrow\": false}, {\"text\": \"Georgetown\", \"x\": -0.45, \"y\": 7, \"xref\": \"x1\", \"yref\": \"y1\", \"align\": \"left\", \"xanchor\": \"left\", \"font\": {\"color\": \"#000000\"}, \"showarrow\": false}, {\"text\": \"94\", \"x\": 0.55, \"y\": 7, \"xref\": \"x1\", \"yref\": \"y1\", \"align\": \"left\", \"xanchor\": \"left\", \"font\": {\"color\": \"#000000\"}, \"showarrow\": false}, {\"text\": \"131\", \"x\": 1.55, \"y\": 7, \"xref\": \"x1\", \"yref\": \"y1\", \"align\": \"left\", \"xanchor\": \"left\", \"font\": {\"color\": \"#000000\"}, \"showarrow\": false}, {\"text\": \"37\", \"x\": 2.55, \"y\": 7, \"xref\": \"x1\", \"yref\": \"y1\", \"align\": \"left\", \"xanchor\": \"left\", \"font\": {\"color\": \"#000000\"}, \"showarrow\": false}, {\"text\": \"Tufts\", \"x\": -0.45, \"y\": 8, \"xref\": \"x1\", \"yref\": \"y1\", \"align\": \"left\", \"xanchor\": \"left\", \"font\": {\"color\": \"#000000\"}, \"showarrow\": false}, {\"text\": \"76\", \"x\": 0.55, \"y\": 8, \"xref\": \"x1\", \"yref\": \"y1\", \"align\": \"left\", \"xanchor\": \"left\", \"font\": {\"color\": \"#000000\"}, \"showarrow\": false}, {\"text\": \"112\", \"x\": 1.55, \"y\": 8, \"xref\": \"x1\", \"yref\": \"y1\", \"align\": \"left\", \"xanchor\": \"left\", \"font\": {\"color\": \"#000000\"}, \"showarrow\": false}, {\"text\": \"36\", \"x\": 2.55, \"y\": 8, \"xref\": \"x1\", \"yref\": \"y1\", \"align\": \"left\", \"xanchor\": \"left\", \"font\": {\"color\": \"#000000\"}, \"showarrow\": false}, {\"text\": \"Yale\", \"x\": -0.45, \"y\": 9, \"xref\": \"x1\", \"yref\": \"y1\", \"align\": \"left\", \"xanchor\": \"left\", \"font\": {\"color\": \"#000000\"}, \"showarrow\": false}, {\"text\": \"79\", \"x\": 0.55, \"y\": 9, \"xref\": \"x1\", \"yref\": \"y1\", \"align\": \"left\", \"xanchor\": \"left\", \"font\": {\"color\": \"#000000\"}, \"showarrow\": false}, {\"text\": \"114\", \"x\": 1.55, \"y\": 9, \"xref\": \"x1\", \"yref\": \"y1\", \"align\": \"left\", \"xanchor\": \"left\", \"font\": {\"color\": \"#000000\"}, \"showarrow\": false}, {\"text\": \"35\", \"x\": 2.55, \"y\": 9, \"xref\": \"x1\", \"yref\": \"y1\", \"align\": \"left\", \"xanchor\": \"left\", \"font\": {\"color\": \"#000000\"}, \"showarrow\": false}, {\"text\": \"Columbia\", \"x\": -0.45, \"y\": 10, \"xref\": \"x1\", \"yref\": \"y1\", \"align\": \"left\", \"xanchor\": \"left\", \"font\": {\"color\": \"#000000\"}, \"showarrow\": false}, {\"text\": \"86\", \"x\": 0.55, \"y\": 10, \"xref\": \"x1\", \"yref\": \"y1\", \"align\": \"left\", \"xanchor\": \"left\", \"font\": {\"color\": \"#000000\"}, \"showarrow\": false}, {\"text\": \"119\", \"x\": 1.55, \"y\": 10, \"xref\": \"x1\", \"yref\": \"y1\", \"align\": \"left\", \"xanchor\": \"left\", \"font\": {\"color\": \"#000000\"}, \"showarrow\": false}, {\"text\": \"33\", \"x\": 2.55, \"y\": 10, \"xref\": \"x1\", \"yref\": \"y1\", \"align\": \"left\", \"xanchor\": \"left\", \"font\": {\"color\": \"#000000\"}, \"showarrow\": false}, {\"text\": \"Duke\", \"x\": -0.45, \"y\": 11, \"xref\": \"x1\", \"yref\": \"y1\", \"align\": \"left\", \"xanchor\": \"left\", \"font\": {\"color\": \"#000000\"}, \"showarrow\": false}, {\"text\": \"93\", \"x\": 0.55, \"y\": 11, \"xref\": \"x1\", \"yref\": \"y1\", \"align\": \"left\", \"xanchor\": \"left\", \"font\": {\"color\": \"#000000\"}, \"showarrow\": false}, {\"text\": \"124\", \"x\": 1.55, \"y\": 11, \"xref\": \"x1\", \"yref\": \"y1\", \"align\": \"left\", \"xanchor\": \"left\", \"font\": {\"color\": \"#000000\"}, \"showarrow\": false}, {\"text\": \"31\", \"x\": 2.55, \"y\": 11, \"xref\": \"x1\", \"yref\": \"y1\", \"align\": \"left\", \"xanchor\": \"left\", \"font\": {\"color\": \"#000000\"}, \"showarrow\": false}, {\"text\": \"Dartmouth\", \"x\": -0.45, \"y\": 12, \"xref\": \"x1\", \"yref\": \"y1\", \"align\": \"left\", \"xanchor\": \"left\", \"font\": {\"color\": \"#000000\"}, \"showarrow\": false}, {\"text\": \"84\", \"x\": 0.55, \"y\": 12, \"xref\": \"x1\", \"yref\": \"y1\", \"align\": \"left\", \"xanchor\": \"left\", \"font\": {\"color\": \"#000000\"}, \"showarrow\": false}, {\"text\": \"114\", \"x\": 1.55, \"y\": 12, \"xref\": \"x1\", \"yref\": \"y1\", \"align\": \"left\", \"xanchor\": \"left\", \"font\": {\"color\": \"#000000\"}, \"showarrow\": false}, {\"text\": \"30\", \"x\": 2.55, \"y\": 12, \"xref\": \"x1\", \"yref\": \"y1\", \"align\": \"left\", \"xanchor\": \"left\", \"font\": {\"color\": \"#000000\"}, \"showarrow\": false}, {\"text\": \"NYU\", \"x\": -0.45, \"y\": 13, \"xref\": \"x1\", \"yref\": \"y1\", \"align\": \"left\", \"xanchor\": \"left\", \"font\": {\"color\": \"#000000\"}, \"showarrow\": false}, {\"text\": \"67\", \"x\": 0.55, \"y\": 13, \"xref\": \"x1\", \"yref\": \"y1\", \"align\": \"left\", \"xanchor\": \"left\", \"font\": {\"color\": \"#000000\"}, \"showarrow\": false}, {\"text\": \"94\", \"x\": 1.55, \"y\": 13, \"xref\": \"x1\", \"yref\": \"y1\", \"align\": \"left\", \"xanchor\": \"left\", \"font\": {\"color\": \"#000000\"}, \"showarrow\": false}, {\"text\": \"27\", \"x\": 2.55, \"y\": 13, \"xref\": \"x1\", \"yref\": \"y1\", \"align\": \"left\", \"xanchor\": \"left\", \"font\": {\"color\": \"#000000\"}, \"showarrow\": false}, {\"text\": \"Notre Dame\", \"x\": -0.45, \"y\": 14, \"xref\": \"x1\", \"yref\": \"y1\", \"align\": \"left\", \"xanchor\": \"left\", \"font\": {\"color\": \"#000000\"}, \"showarrow\": false}, {\"text\": \"73\", \"x\": 0.55, \"y\": 14, \"xref\": \"x1\", \"yref\": \"y1\", \"align\": \"left\", \"xanchor\": \"left\", \"font\": {\"color\": \"#000000\"}, \"showarrow\": false}, {\"text\": \"100\", \"x\": 1.55, \"y\": 14, \"xref\": \"x1\", \"yref\": \"y1\", \"align\": \"left\", \"xanchor\": \"left\", \"font\": {\"color\": \"#000000\"}, \"showarrow\": false}, {\"text\": \"27\", \"x\": 2.55, \"y\": 14, \"xref\": \"x1\", \"yref\": \"y1\", \"align\": \"left\", \"xanchor\": \"left\", \"font\": {\"color\": \"#000000\"}, \"showarrow\": false}, {\"text\": \"Cornell\", \"x\": -0.45, \"y\": 15, \"xref\": \"x1\", \"yref\": \"y1\", \"align\": \"left\", \"xanchor\": \"left\", \"font\": {\"color\": \"#000000\"}, \"showarrow\": false}, {\"text\": \"80\", \"x\": 0.55, \"y\": 15, \"xref\": \"x1\", \"yref\": \"y1\", \"align\": \"left\", \"xanchor\": \"left\", \"font\": {\"color\": \"#000000\"}, \"showarrow\": false}, {\"text\": \"107\", \"x\": 1.55, \"y\": 15, \"xref\": \"x1\", \"yref\": \"y1\", \"align\": \"left\", \"xanchor\": \"left\", \"font\": {\"color\": \"#000000\"}, \"showarrow\": false}, {\"text\": \"27\", \"x\": 2.55, \"y\": 15, \"xref\": \"x1\", \"yref\": \"y1\", \"align\": \"left\", \"xanchor\": \"left\", \"font\": {\"color\": \"#000000\"}, \"showarrow\": false}, {\"text\": \"Michigan\", \"x\": -0.45, \"y\": 16, \"xref\": \"x1\", \"yref\": \"y1\", \"align\": \"left\", \"xanchor\": \"left\", \"font\": {\"color\": \"#000000\"}, \"showarrow\": false}, {\"text\": \"62\", \"x\": 0.55, \"y\": 16, \"xref\": \"x1\", \"yref\": \"y1\", \"align\": \"left\", \"xanchor\": \"left\", \"font\": {\"color\": \"#000000\"}, \"showarrow\": false}, {\"text\": \"84\", \"x\": 1.55, \"y\": 16, \"xref\": \"x1\", \"yref\": \"y1\", \"align\": \"left\", \"xanchor\": \"left\", \"font\": {\"color\": \"#000000\"}, \"showarrow\": false}, {\"text\": \"22\", \"x\": 2.55, \"y\": 16, \"xref\": \"x1\", \"yref\": \"y1\", \"align\": \"left\", \"xanchor\": \"left\", \"font\": {\"color\": \"#000000\"}, \"showarrow\": false}, {\"text\": \"Brown\", \"x\": -0.45, \"y\": 17, \"xref\": \"x1\", \"yref\": \"y1\", \"align\": \"left\", \"xanchor\": \"left\", \"font\": {\"color\": \"#000000\"}, \"showarrow\": false}, {\"text\": \"72\", \"x\": 0.55, \"y\": 17, \"xref\": \"x1\", \"yref\": \"y1\", \"align\": \"left\", \"xanchor\": \"left\", \"font\": {\"color\": \"#000000\"}, \"showarrow\": false}, {\"text\": \"92\", \"x\": 1.55, \"y\": 17, \"xref\": \"x1\", \"yref\": \"y1\", \"align\": \"left\", \"xanchor\": \"left\", \"font\": {\"color\": \"#000000\"}, \"showarrow\": false}, {\"text\": \"20\", \"x\": 2.55, \"y\": 17, \"xref\": \"x1\", \"yref\": \"y1\", \"align\": \"left\", \"xanchor\": \"left\", \"font\": {\"color\": \"#000000\"}, \"showarrow\": false}, {\"text\": \"Berkeley\", \"x\": -0.45, \"y\": 18, \"xref\": \"x1\", \"yref\": \"y1\", \"align\": \"left\", \"xanchor\": \"left\", \"font\": {\"color\": \"#000000\"}, \"showarrow\": false}, {\"text\": \"71\", \"x\": 0.55, \"y\": 18, \"xref\": \"x1\", \"yref\": \"y1\", \"align\": \"left\", \"xanchor\": \"left\", \"font\": {\"color\": \"#000000\"}, \"showarrow\": false}, {\"text\": \"88\", \"x\": 1.55, \"y\": 18, \"xref\": \"x1\", \"yref\": \"y1\", \"align\": \"left\", \"xanchor\": \"left\", \"font\": {\"color\": \"#000000\"}, \"showarrow\": false}, {\"text\": \"17\", \"x\": 2.55, \"y\": 18, \"xref\": \"x1\", \"yref\": \"y1\", \"align\": \"left\", \"xanchor\": \"left\", \"font\": {\"color\": \"#000000\"}, \"showarrow\": false}, {\"text\": \"Emory\", \"x\": -0.45, \"y\": 19, \"xref\": \"x1\", \"yref\": \"y1\", \"align\": \"left\", \"xanchor\": \"left\", \"font\": {\"color\": \"#000000\"}, \"showarrow\": false}, {\"text\": \"68\", \"x\": 0.55, \"y\": 19, \"xref\": \"x1\", \"yref\": \"y1\", \"align\": \"left\", \"xanchor\": \"left\", \"font\": {\"color\": \"#000000\"}, \"showarrow\": false}, {\"text\": \"82\", \"x\": 1.55, \"y\": 19, \"xref\": \"x1\", \"yref\": \"y1\", \"align\": \"left\", \"xanchor\": \"left\", \"font\": {\"color\": \"#000000\"}, \"showarrow\": false}, {\"text\": \"14\", \"x\": 2.55, \"y\": 19, \"xref\": \"x1\", \"yref\": \"y1\", \"align\": \"left\", \"xanchor\": \"left\", \"font\": {\"color\": \"#000000\"}, \"showarrow\": false}, {\"text\": \"UCLA\", \"x\": -0.45, \"y\": 20, \"xref\": \"x1\", \"yref\": \"y1\", \"align\": \"left\", \"xanchor\": \"left\", \"font\": {\"color\": \"#000000\"}, \"showarrow\": false}, {\"text\": \"64\", \"x\": 0.55, \"y\": 20, \"xref\": \"x1\", \"yref\": \"y1\", \"align\": \"left\", \"xanchor\": \"left\", \"font\": {\"color\": \"#000000\"}, \"showarrow\": false}, {\"text\": \"78\", \"x\": 1.55, \"y\": 20, \"xref\": \"x1\", \"yref\": \"y1\", \"align\": \"left\", \"xanchor\": \"left\", \"font\": {\"color\": \"#000000\"}, \"showarrow\": false}, {\"text\": \"14\", \"x\": 2.55, \"y\": 20, \"xref\": \"x1\", \"yref\": \"y1\", \"align\": \"left\", \"xanchor\": \"left\", \"font\": {\"color\": \"#000000\"}, \"showarrow\": false}, {\"text\": \"SoCal\", \"x\": -0.45, \"y\": 21, \"xref\": \"x1\", \"yref\": \"y1\", \"align\": \"left\", \"xanchor\": \"left\", \"font\": {\"color\": \"#000000\"}, \"showarrow\": false}, {\"text\": \"72\", \"x\": 0.55, \"y\": 21, \"xref\": \"x1\", \"yref\": \"y1\", \"align\": \"left\", \"xanchor\": \"left\", \"font\": {\"color\": \"#000000\"}, \"showarrow\": false}, {\"text\": \"81\", \"x\": 1.55, \"y\": 21, \"xref\": \"x1\", \"yref\": \"y1\", \"align\": \"left\", \"xanchor\": \"left\", \"font\": {\"color\": \"#000000\"}, \"showarrow\": false}, {\"text\": \"9\", \"x\": 2.55, \"y\": 21, \"xref\": \"x1\", \"yref\": \"y1\", \"align\": \"left\", \"xanchor\": \"left\", \"font\": {\"color\": \"#000000\"}, \"showarrow\": false}], \"height\": 710, \"margin\": {\"t\": 0, \"b\": 0, \"r\": 0, \"l\": 0}, \"yaxis\": {\"autorange\": \"reversed\", \"zeroline\": false, \"gridwidth\": 2, \"ticks\": \"\", \"dtick\": 1, \"tick0\": 0.5, \"showticklabels\": false}, \"xaxis\": {\"zeroline\": false, \"gridwidth\": 2, \"ticks\": \"\", \"dtick\": 1, \"tick0\": -0.5, \"showticklabels\": false}}, {\"showLink\": true, \"linkText\": \"Export to plot.ly\"})});</script>"
      ]
     },
     "metadata": {},
     "output_type": "display_data"
    },
    {
     "data": {
      "application/vnd.plotly.v1+json": {
       "data": [
        {
         "type": "scatter",
         "x": [
          1,
          2,
          3,
          4
         ],
         "y": [
          4,
          3,
          2,
          1
         ]
        }
       ],
       "layout": {
        "title": "hello world"
       }
      },
      "text/html": [
       "<div id=\"758bcd36-f400-4ec1-8b2a-8149070f2f73\" style=\"height: 525px; width: 100%;\" class=\"plotly-graph-div\"></div><script type=\"text/javascript\">require([\"plotly\"], function(Plotly) { window.PLOTLYENV=window.PLOTLYENV || {};window.PLOTLYENV.BASE_URL=\"https://plot.ly\";Plotly.newPlot(\"758bcd36-f400-4ec1-8b2a-8149070f2f73\", [{\"type\": \"scatter\", \"x\": [1, 2, 3, 4], \"y\": [4, 3, 2, 1]}], {\"title\": \"hello world\"}, {\"showLink\": true, \"linkText\": \"Export to plot.ly\"})});</script>"
      ],
      "text/vnd.plotly.v1+html": [
       "<div id=\"758bcd36-f400-4ec1-8b2a-8149070f2f73\" style=\"height: 525px; width: 100%;\" class=\"plotly-graph-div\"></div><script type=\"text/javascript\">require([\"plotly\"], function(Plotly) { window.PLOTLYENV=window.PLOTLYENV || {};window.PLOTLYENV.BASE_URL=\"https://plot.ly\";Plotly.newPlot(\"758bcd36-f400-4ec1-8b2a-8149070f2f73\", [{\"type\": \"scatter\", \"x\": [1, 2, 3, 4], \"y\": [4, 3, 2, 1]}], {\"title\": \"hello world\"}, {\"showLink\": true, \"linkText\": \"Export to plot.ly\"})});</script>"
      ]
     },
     "metadata": {},
     "output_type": "display_data"
    }
   ],
   "source": [
    "import plotly\n",
    "from plotly.offline import plot\n",
    "import plotly.graph_objs as go\n",
    "from plotly.graph_objs import Scatter, Layout\n",
    "import plotly.figure_factory as ff\n",
    "import pandas as pd\n",
    "import matplotlib.pyplot as plt\n",
    "%matplotlib inline\n",
    "\n",
    "\n",
    "\n",
    "plotly.offline.init_notebook_mode(connected=True)\n",
    "\n",
    "df = pd.read_csv(\"https://raw.githubusercontent.com/plotly/datasets/master/school_earnings.csv\")\n",
    "\n",
    "table = ff.create_table(df)\n",
    "plotly.offline.iplot([go.Scatter(x=[1, 2, 3], y=[3, 2, 6])], filename='my-graph.html')\n",
    "plotly.offline.iplot(table, filename='table1.html')\n",
    "plotly.offline.iplot({ \"data\": [Scatter(x=[1, 2, 3, 4], y=[4, 3, 2, 1])], \"layout\": Layout(title=\"hello world\") })"
   ]
  },
  {
   "cell_type": "code",
   "execution_count": null,
   "metadata": {
    "collapsed": true
   },
   "outputs": [],
   "source": []
  }
 ],
 "metadata": {
  "kernelspec": {
   "display_name": "Python 3",
   "language": "python",
   "name": "python3"
  },
  "language_info": {
   "codemirror_mode": {
    "name": "ipython",
    "version": 3
   },
   "file_extension": ".py",
   "mimetype": "text/x-python",
   "name": "python",
   "nbconvert_exporter": "python",
   "pygments_lexer": "ipython3",
   "version": "3.6.3"
  }
 },
 "nbformat": 4,
 "nbformat_minor": 2
}
