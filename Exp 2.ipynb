{
 "cells": [
  {
   "cell_type": "code",
   "execution_count": null,
   "metadata": {
    "init_cell": true,
    "scrolled": true
   },
   "outputs": [],
   "source": [
    "%%HTML\n",
    "<div class=\"intro\" style=\"width: 100%;\">\n",
    "<a href=\"http://www.gccaz.edu\">\n",
    "<img style=\"position: absolute; left:42%; top: 10px; z-index: 0;\" class=\"logo\" src=\"https://pbs.twimg.com/profile_images/913063453765517313/GcCFGbXg_400x400.jpg\"alt=\"Central Phoenix &#8226; Inez Casiano\" width=\"150\" height=\"150\"> \n",
    "</a>\n",
    "<div class=\"line\" style=\"width: 100%; height: 2px; position: absolute; left: 0px; top: 170px; background-color:#CA333A;\">\n",
    "</div>\n",
    "<br><br><br><br><br><br><br><br>\n",
    "<b style=\"text-align: center; text-indent: -16ex; font-family: Arial, Helvetica, sans-serif; margin-left: 20px;\"><h1>Experiment 2</h1><br>This is an interactive (ipython) pre-compiled notebook.<br>Click \"Show code\" to view/edit the app. Otherwise, please wait a moment for the app to load (the hour glass icon in the browser tab will disappear).</b>\n",
    "</div>"
   ]
  },
  {
   "cell_type": "code",
   "execution_count": null,
   "metadata": {
    "init_cell": true
   },
   "outputs": [],
   "source": [
    "%%html\n",
    "<script>\n",
    "    // AUTORUN ALL CELLS ON NOTEBOOK-LOAD!\n",
    "    require(\n",
    "        ['base/js/namespace', 'jquery'], \n",
    "        function(jupyter, $) {\n",
    "            $(jupyter.events).on(\"kernel_ready.Kernel\", function () {\n",
    "                console.log(\"Auto-running all cells-below...\");\n",
    "                jupyter.actions.call('jupyter-notebook:run-all-cells-below');\n",
    "                jupyter.actions.call('jupyter-notebook:save-notebook');\n",
    "            });\n",
    "        }\n",
    "    );\n",
    "</script>"
   ]
  },
  {
   "cell_type": "code",
   "execution_count": 3,
   "metadata": {},
   "outputs": [
    {
     "ename": "XLRDError",
     "evalue": "ZIP file contents not a known type of workbook",
     "output_type": "error",
     "traceback": [
      "\u001b[0;31m---------------------------------------------------------------------------\u001b[0m",
      "\u001b[0;31mXLRDError\u001b[0m                                 Traceback (most recent call last)",
      "\u001b[0;32m<ipython-input-3-2a80f250b99d>\u001b[0m in \u001b[0;36m<module>\u001b[0;34m()\u001b[0m\n\u001b[1;32m      9\u001b[0m \u001b[0;32mfrom\u001b[0m \u001b[0mopenpyxl\u001b[0m \u001b[0;32mimport\u001b[0m \u001b[0mload_workbook\u001b[0m\u001b[0;34m\u001b[0m\u001b[0m\n\u001b[1;32m     10\u001b[0m \u001b[0;34m\u001b[0m\u001b[0m\n\u001b[0;32m---> 11\u001b[0;31m \u001b[0mxls_file1\u001b[0m \u001b[0;34m=\u001b[0m \u001b[0mxlrd\u001b[0m\u001b[0;34m.\u001b[0m\u001b[0mopen_workbook\u001b[0m\u001b[0;34m(\u001b[0m\u001b[0;34m\"data_input1.xlsx\"\u001b[0m\u001b[0;34m)\u001b[0m\u001b[0;34m\u001b[0m\u001b[0m\n\u001b[0m\u001b[1;32m     12\u001b[0m \u001b[0mxls_sheet1\u001b[0m \u001b[0;34m=\u001b[0m \u001b[0mxls_file1\u001b[0m\u001b[0;34m.\u001b[0m\u001b[0msheet_by_name\u001b[0m\u001b[0;34m(\u001b[0m\u001b[0;34m\"Sheet1\"\u001b[0m\u001b[0;34m)\u001b[0m\u001b[0;34m\u001b[0m\u001b[0m\n\u001b[1;32m     13\u001b[0m \u001b[0;34m\u001b[0m\u001b[0m\n",
      "\u001b[0;32m/home/ubuntu/miniconda2/lib/python2.7/site-packages/xlrd/__init__.pyc\u001b[0m in \u001b[0;36mopen_workbook\u001b[0;34m(filename, logfile, verbosity, use_mmap, file_contents, encoding_override, formatting_info, on_demand, ragged_rows)\u001b[0m\n\u001b[1;32m    148\u001b[0m         \u001b[0;32mif\u001b[0m \u001b[0;34m'content.xml'\u001b[0m \u001b[0;32min\u001b[0m \u001b[0mcomponent_names\u001b[0m\u001b[0;34m:\u001b[0m\u001b[0;34m\u001b[0m\u001b[0m\n\u001b[1;32m    149\u001b[0m             \u001b[0;32mraise\u001b[0m \u001b[0mXLRDError\u001b[0m\u001b[0;34m(\u001b[0m\u001b[0;34m'Openoffice.org ODS file; not supported'\u001b[0m\u001b[0;34m)\u001b[0m\u001b[0;34m\u001b[0m\u001b[0m\n\u001b[0;32m--> 150\u001b[0;31m         \u001b[0;32mraise\u001b[0m \u001b[0mXLRDError\u001b[0m\u001b[0;34m(\u001b[0m\u001b[0;34m'ZIP file contents not a known type of workbook'\u001b[0m\u001b[0;34m)\u001b[0m\u001b[0;34m\u001b[0m\u001b[0m\n\u001b[0m\u001b[1;32m    151\u001b[0m \u001b[0;34m\u001b[0m\u001b[0m\n\u001b[1;32m    152\u001b[0m     \u001b[0;32mfrom\u001b[0m \u001b[0;34m.\u001b[0m \u001b[0;32mimport\u001b[0m \u001b[0mbook\u001b[0m\u001b[0;34m\u001b[0m\u001b[0m\n",
      "\u001b[0;31mXLRDError\u001b[0m: ZIP file contents not a known type of workbook"
     ]
    }
   ],
   "source": [
    "from ipywidgets import widgets \n",
    "from IPython.display import display, HTML\n",
    "from bs4 import BeautifulSoup as soup\n",
    "import re as regex  # python regex module\n",
    "import time\n",
    "import xlwt\n",
    "import xlrd\n",
    "import pandas\n",
    "from openpyxl import load_workbook\n",
    "\n",
    "xls_file1 = xlrd.open_workbook(\"data_input1.xlsx\")\n",
    "xls_sheet1 = xls_file1.sheet_by_name(\"Sheet1\")\n",
    "\n",
    "text = widgets.Text()\n",
    "display(text)\n",
    "\n",
    "def submit_func(sender):\n",
    "    for i in range(xls_sheet1.nrows):\n",
    "        if i: # == xls_sheet1.cell_value(rowx=i, colx=0):\n",
    "            text_files1 = open(\"data_output\" + str(1) + \".txt\", \"r+\")\n",
    "\n",
    "            # ======== Excel export ==============\n",
    "            df = pandas.DataFrame([[\"a\", \"b\", \"c\", \"d\", \"e\"]])\n",
    "            #\n",
    "            # writer = pandas.ExcelWriter('test1.xls')\n",
    "            # df.to_excel(writer, sheet_name='Sheet1')\n",
    "            # writer.save()\n",
    "\n",
    "            # rts_book1 = xlwt.Workbook()\n",
    "            # rts_sheet1 = rts_book1.add_sheet('sheet1')\n",
    "\n",
    "            data_input1 = load_workbook('data_input1.xlsx')\n",
    "            writer = pandas.ExcelWriter('data_input1.xlsx', engine='openpyxl')\n",
    "            writer.book = data_input1\n",
    "            writer.sheets = dict((ws.title, ws) for ws in data_input1.worksheets)\n",
    "            df.to_excel(writer, sheet_name='Sheet2', startrow=i, startcol=2, header=False, index=False)\n",
    "\n",
    "            # for sheetname, df in df.iteritems():  # loop through `dict` of dataframe cols\n",
    "            #     df.to_excel(writer, sheet_name=sheetname)  # send df to writer\n",
    "            #     worksheet = writer.sheets[sheetname]  # pull worksheet object\n",
    "            #     for idx, col in enumerate(df):  # loop through all columns\n",
    "            #         series = df[col]\n",
    "            #         max_len = max((\n",
    "            #             series.astype(str).map(len).max(),  # len of largest item\n",
    "            #             len(str(series.name))  # len of column name/header\n",
    "            #         )) + 1  # adding a little extra space\n",
    "            #         worksheet.set_column(idx, idx, max_len)  # set column width\n",
    "\n",
    "            writer.save()\n",
    "            text_files1.close()\n",
    "\n",
    "            display(df)\n",
    "        \n",
    "text.on_submit(submit_func)\n",
    "#         df3 = pandas.concat([df0, df], axis=1)\n",
    "#         display(df3)\n",
    "#         df3.to_excel(writer, sheet_name='Sheet1', startrow=i, startcol=2, header=False, index=False)\n",
    "                \n",
    "        \n",
    "#         # ======== Excel export ==============\n",
    "#         df = pandas.DataFrame([[s0, s1, s2, s3, s4, s5]])\n",
    "#         rts_book1 = load_workbook('rts_input2.xlsx')\n",
    "#         writer = pandas.ExcelWriter('rts_input2.xlsx', engine='openpyxl')\n",
    "#         writer.book = rts_book1\n",
    "#         writer.sheets = dict((ws.title, ws) for ws in rts_book1.worksheets)\n",
    "#         df0.to_excel(writer, sheet_name='Sheet1', startrow=xls_sheet1.nrows+1, startcol=1, header=False, index=False)\n",
    "        \n",
    "# #         button_y.on_click(button_y_clicked)\n",
    "# #         button_n.on_click(button_n_clicked)              \n",
    "#     #     df2 = pandas.DataFrame({'House Status':[s3_H], 'House Ayes':[s4_H], 'House Nays':[s5_H], 'House Action':[s6_H],'House Action':[s7_H]})\n",
    "#         df3 = pandas.concat([df0, df], axis=1)\n",
    "#         display(df3)\n",
    "#         df3.to_excel(writer, sheet_name='Sheet1', startrow=i, startcol=2, header=False, index=False)"
   ]
  },
  {
   "cell_type": "code",
   "execution_count": null,
   "metadata": {},
   "outputs": [],
   "source": []
  }
 ],
 "metadata": {
  "celltoolbar": "Initialization Cell",
  "kernelspec": {
   "display_name": "Python 2",
   "language": "python",
   "name": "python2"
  },
  "language_info": {
   "codemirror_mode": {
    "name": "ipython",
    "version": 2
   },
   "file_extension": ".py",
   "mimetype": "text/x-python",
   "name": "python",
   "nbconvert_exporter": "python",
   "pygments_lexer": "ipython2",
   "version": "2.7.13"
  }
 },
 "nbformat": 4,
 "nbformat_minor": 2
}
